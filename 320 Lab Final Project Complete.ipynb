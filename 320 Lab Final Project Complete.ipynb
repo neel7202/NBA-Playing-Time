{
 "cells": [
  {
   "cell_type": "markdown",
   "source": [
    "# The Different Statistical Attributes and their Value in the Changing NBA"
   ],
   "metadata": {}
  },
  {
   "cell_type": "markdown",
   "source": [
    "### Group Members: Neel Mirani, Natalie Treichel, Roger Chen, Hyungsuk, Phillipp Liu"
   ],
   "metadata": {}
  },
  {
   "cell_type": "markdown",
   "source": [
    "## Table of Contents:\n",
    "* [Introduction and Motivation](#first-bullet)\n",
    "* [Data](#second-bullet)\n",
    "* [Model](#third-bullet)\n",
    "* [Results](#fourth-bullet) \n",
    "* [Conclusion](#fifth-bullet)\n",
    "* [Sources Cited](#sixth-bullet)\n"
   ],
   "metadata": {}
  },
  {
   "cell_type": "code",
   "execution_count": 2,
   "source": [
    "import pandas as pd\r\n",
    "import seaborn as sns\r\n",
    "import statsmodels.formula.api as smf\r\n",
    "import matplotlib.pyplot as plt\r\n",
    "import numpy as np\r\n",
    "import statsmodels.stats.api as sms\r\n",
    "from stargazer.stargazer import Stargazer\r\n",
    "nba_data = pd.read_excel(\"NBA_Data_new.xlsx\")"
   ],
   "outputs": [],
   "metadata": {}
  },
  {
   "cell_type": "markdown",
   "source": [
    "![image-2.png](attachment:image-2.png) <a class=\"anchor\" id=\"first-bullet\"></a>\n",
    "\n",
    "# Introduction and Motivation\n",
    "\n",
    "In professional sports, competition is fierce, both between and within teams. Teams battle each other for championship titles while within the teams players fight for a place in the starting lineup. The NBA is a great example of this internal fight for playing time. There has been a steady decrease in average playing time in the last decades due to factors such as expanded regular-season rosters from 12 to 15 players and coaches being more strategic with player rotation. That is why for this project, we want to see what factors in the NBA, a league heavily driven by statistics, affects how much playtime a player receives. We want to investigate the relationship between points, assists, and rebounding stats on minutes played per game (MIN/G). MIN/G  is an indicator of how valuable a player is to the team as more valuable players will be on the court for longer in order to give their team an advantage. It would be interesting to see which attributes are most valued in the NBA today (points vs assists vs rebounds). We will measure the partial effects of each independent variable in order to discover which one has the largest partial effects on MIN/G. This will indicate to us which attribute is most valuable in the NBA today. Our initial hypothesis is that points will have the largest partial effect because of the high-scoring nature of the NBA today. See the below graph to see the change towards more 3 point shooting. \n",
    "\n",
    "\n",
    "![image.png](attachment:image.png)"
   ],
   "metadata": {}
  },
  {
   "cell_type": "code",
   "execution_count": 3,
   "source": [
    "nba_data['FTP'] = nba_data['FTM']/nba_data['FTA']\r\n",
    "cormat = nba_data[['MIN/G', \"PTS\", \"AST\", 'REB', 'STL', \"BLK\", 'TOV', 'FTP']]\r\n",
    "cormat = cormat.iloc[1:]\r\n",
    "cormat\r\n",
    "cormat.corr().round(decimals=2)"
   ],
   "outputs": [
    {
     "output_type": "execute_result",
     "data": {
      "text/html": [
       "<div>\n",
       "<style scoped>\n",
       "    .dataframe tbody tr th:only-of-type {\n",
       "        vertical-align: middle;\n",
       "    }\n",
       "\n",
       "    .dataframe tbody tr th {\n",
       "        vertical-align: top;\n",
       "    }\n",
       "\n",
       "    .dataframe thead th {\n",
       "        text-align: right;\n",
       "    }\n",
       "</style>\n",
       "<table border=\"1\" class=\"dataframe\">\n",
       "  <thead>\n",
       "    <tr style=\"text-align: right;\">\n",
       "      <th></th>\n",
       "      <th>MIN/G</th>\n",
       "      <th>PTS</th>\n",
       "      <th>AST</th>\n",
       "      <th>REB</th>\n",
       "      <th>STL</th>\n",
       "      <th>BLK</th>\n",
       "      <th>TOV</th>\n",
       "      <th>FTP</th>\n",
       "    </tr>\n",
       "  </thead>\n",
       "  <tbody>\n",
       "    <tr>\n",
       "      <th>MIN/G</th>\n",
       "      <td>1.00</td>\n",
       "      <td>0.70</td>\n",
       "      <td>0.46</td>\n",
       "      <td>0.35</td>\n",
       "      <td>0.33</td>\n",
       "      <td>0.15</td>\n",
       "      <td>0.58</td>\n",
       "      <td>0.11</td>\n",
       "    </tr>\n",
       "    <tr>\n",
       "      <th>PTS</th>\n",
       "      <td>0.70</td>\n",
       "      <td>1.00</td>\n",
       "      <td>0.52</td>\n",
       "      <td>0.31</td>\n",
       "      <td>0.23</td>\n",
       "      <td>0.10</td>\n",
       "      <td>0.77</td>\n",
       "      <td>0.22</td>\n",
       "    </tr>\n",
       "    <tr>\n",
       "      <th>AST</th>\n",
       "      <td>0.46</td>\n",
       "      <td>0.52</td>\n",
       "      <td>1.00</td>\n",
       "      <td>0.00</td>\n",
       "      <td>0.44</td>\n",
       "      <td>-0.21</td>\n",
       "      <td>0.78</td>\n",
       "      <td>0.16</td>\n",
       "    </tr>\n",
       "    <tr>\n",
       "      <th>REB</th>\n",
       "      <td>0.35</td>\n",
       "      <td>0.31</td>\n",
       "      <td>0.00</td>\n",
       "      <td>1.00</td>\n",
       "      <td>0.06</td>\n",
       "      <td>0.64</td>\n",
       "      <td>0.29</td>\n",
       "      <td>-0.38</td>\n",
       "    </tr>\n",
       "    <tr>\n",
       "      <th>STL</th>\n",
       "      <td>0.33</td>\n",
       "      <td>0.23</td>\n",
       "      <td>0.44</td>\n",
       "      <td>0.06</td>\n",
       "      <td>1.00</td>\n",
       "      <td>0.07</td>\n",
       "      <td>0.38</td>\n",
       "      <td>-0.03</td>\n",
       "    </tr>\n",
       "    <tr>\n",
       "      <th>BLK</th>\n",
       "      <td>0.15</td>\n",
       "      <td>0.10</td>\n",
       "      <td>-0.21</td>\n",
       "      <td>0.64</td>\n",
       "      <td>0.07</td>\n",
       "      <td>1.00</td>\n",
       "      <td>0.02</td>\n",
       "      <td>-0.28</td>\n",
       "    </tr>\n",
       "    <tr>\n",
       "      <th>TOV</th>\n",
       "      <td>0.58</td>\n",
       "      <td>0.77</td>\n",
       "      <td>0.78</td>\n",
       "      <td>0.29</td>\n",
       "      <td>0.38</td>\n",
       "      <td>0.02</td>\n",
       "      <td>1.00</td>\n",
       "      <td>0.05</td>\n",
       "    </tr>\n",
       "    <tr>\n",
       "      <th>FTP</th>\n",
       "      <td>0.11</td>\n",
       "      <td>0.22</td>\n",
       "      <td>0.16</td>\n",
       "      <td>-0.38</td>\n",
       "      <td>-0.03</td>\n",
       "      <td>-0.28</td>\n",
       "      <td>0.05</td>\n",
       "      <td>1.00</td>\n",
       "    </tr>\n",
       "  </tbody>\n",
       "</table>\n",
       "</div>"
      ],
      "text/plain": [
       "       MIN/G   PTS   AST   REB   STL   BLK   TOV   FTP\n",
       "MIN/G   1.00  0.70  0.46  0.35  0.33  0.15  0.58  0.11\n",
       "PTS     0.70  1.00  0.52  0.31  0.23  0.10  0.77  0.22\n",
       "AST     0.46  0.52  1.00  0.00  0.44 -0.21  0.78  0.16\n",
       "REB     0.35  0.31  0.00  1.00  0.06  0.64  0.29 -0.38\n",
       "STL     0.33  0.23  0.44  0.06  1.00  0.07  0.38 -0.03\n",
       "BLK     0.15  0.10 -0.21  0.64  0.07  1.00  0.02 -0.28\n",
       "TOV     0.58  0.77  0.78  0.29  0.38  0.02  1.00  0.05\n",
       "FTP     0.11  0.22  0.16 -0.38 -0.03 -0.28  0.05  1.00"
      ]
     },
     "metadata": {},
     "execution_count": 3
    }
   ],
   "metadata": {}
  },
  {
   "cell_type": "markdown",
   "source": [
    "This correlation table shows to us that there is no perfect collinearity between the explanatory variables, yet at the same time, each explanatory variable is correlated with the dependent variable: MIN/G. This satisfies condition 3 of OLS (no perfect multicollinearity) while also justifying the explanatory variables being included in the regression."
   ],
   "metadata": {}
  },
  {
   "cell_type": "code",
   "execution_count": 12,
   "source": [
    "sns.regplot(x= \"PTS\", y= \"MIN/G\", data=cormat, line_kws= {'color':'blue'}, marker='o',\r\n",
    "           scatter_kws={'color':'red', 's':5, 'alpha':0.3}, x_jitter = 0.2).set(title= 'PTS vs MIN/G',\r\n",
    "                                                  xlabel=\"PTS\", ylabel = \"MIN/G\");"
   ],
   "outputs": [
    {
     "output_type": "display_data",
     "data": {
      "image/png": "[encoded data removed]",
      "text/plain": [
       "<Figure size 432x288 with 1 Axes>"
      ]
     },
     "metadata": {
      "needs_background": "light"
     }
    }
   ],
   "metadata": {}
  },
  {
   "cell_type": "code",
   "execution_count": 13,
   "source": [
    "sns.regplot(x= \"AST\", y= \"MIN/G\", data=cormat, line_kws= {'color':'blue'}, marker='o',\r\n",
    "           scatter_kws={'color':'red', 's':5, 'alpha':0.3}, x_jitter = 0.2).set(title= 'AST vs MIN/G',\r\n",
    "                                                  xlabel=\"AST\", ylabel = \"MIN/G\");"
   ],
   "outputs": [
    {
     "output_type": "display_data",
     "data": {
      "image/png": "[encoded data removed]",
      "text/plain": [
       "<Figure size 432x288 with 1 Axes>"
      ]
     },
     "metadata": {
      "needs_background": "light"
     }
    }
   ],
   "metadata": {}
  },
  {
   "cell_type": "code",
   "execution_count": 14,
   "source": [
    "sns.regplot(x= \"REB\", y= \"MIN/G\", data=cormat, line_kws= {'color':'blue'}, marker='o',\r\n",
    "           scatter_kws={'color':'red', 's':5, 'alpha':0.3}, x_jitter = 0.2).set(title= 'REB vs MIN/G',\r\n",
    "                                                  xlabel=\"REB\", ylabel = \"MIN/G\");"
   ],
   "outputs": [
    {
     "output_type": "display_data",
     "data": {
      "image/png": "[encoded data removed]",
      "text/plain": [
       "<Figure size 432x288 with 1 Axes>"
      ]
     },
     "metadata": {
      "needs_background": "light"
     }
    }
   ],
   "metadata": {}
  },
  {
   "cell_type": "markdown",
   "source": [
    "These graphs give us the initial impression that points, assists, and rebounds all have a positive correlation with minutes played per game. We will conduct several regression models later in order to see whether they are statistically significant."
   ],
   "metadata": {}
  },
  {
   "cell_type": "code",
   "execution_count": 7,
   "source": [
    "nba_data.groupby(\"Pos\").agg({'PTS': 'mean', 'AST': 'mean', 'REB': 'mean', 'STL': 'mean', 'REB': 'mean', 'FTP': 'mean', 'BLK': 'mean', 'MIN/G': 'mean'})"
   ],
   "outputs": [
    {
     "output_type": "execute_result",
     "data": {
      "text/html": [
       "<div>\n",
       "<style scoped>\n",
       "    .dataframe tbody tr th:only-of-type {\n",
       "        vertical-align: middle;\n",
       "    }\n",
       "\n",
       "    .dataframe tbody tr th {\n",
       "        vertical-align: top;\n",
       "    }\n",
       "\n",
       "    .dataframe thead th {\n",
       "        text-align: right;\n",
       "    }\n",
       "</style>\n",
       "<table border=\"1\" class=\"dataframe\">\n",
       "  <thead>\n",
       "    <tr style=\"text-align: right;\">\n",
       "      <th></th>\n",
       "      <th>PTS</th>\n",
       "      <th>AST</th>\n",
       "      <th>REB</th>\n",
       "      <th>STL</th>\n",
       "      <th>FTP</th>\n",
       "      <th>BLK</th>\n",
       "      <th>MIN/G</th>\n",
       "    </tr>\n",
       "    <tr>\n",
       "      <th>Pos</th>\n",
       "      <th></th>\n",
       "      <th></th>\n",
       "      <th></th>\n",
       "      <th></th>\n",
       "      <th></th>\n",
       "      <th></th>\n",
       "      <th></th>\n",
       "    </tr>\n",
       "  </thead>\n",
       "  <tbody>\n",
       "    <tr>\n",
       "      <th>C</th>\n",
       "      <td>14.933333</td>\n",
       "      <td>2.436111</td>\n",
       "      <td>9.038889</td>\n",
       "      <td>0.783333</td>\n",
       "      <td>0.724648</td>\n",
       "      <td>1.222222</td>\n",
       "      <td>29.402778</td>\n",
       "    </tr>\n",
       "    <tr>\n",
       "      <th>PF</th>\n",
       "      <td>14.912821</td>\n",
       "      <td>2.674359</td>\n",
       "      <td>6.261538</td>\n",
       "      <td>0.869231</td>\n",
       "      <td>0.765084</td>\n",
       "      <td>0.694872</td>\n",
       "      <td>30.002564</td>\n",
       "    </tr>\n",
       "    <tr>\n",
       "      <th>PG</th>\n",
       "      <td>16.149153</td>\n",
       "      <td>4.952542</td>\n",
       "      <td>3.961017</td>\n",
       "      <td>1.054237</td>\n",
       "      <td>0.811040</td>\n",
       "      <td>0.306780</td>\n",
       "      <td>29.530508</td>\n",
       "    </tr>\n",
       "    <tr>\n",
       "      <th>SF</th>\n",
       "      <td>14.010526</td>\n",
       "      <td>2.434211</td>\n",
       "      <td>4.507895</td>\n",
       "      <td>1.047368</td>\n",
       "      <td>0.796654</td>\n",
       "      <td>0.400000</td>\n",
       "      <td>29.457895</td>\n",
       "    </tr>\n",
       "    <tr>\n",
       "      <th>SG</th>\n",
       "      <td>14.378571</td>\n",
       "      <td>2.764286</td>\n",
       "      <td>3.617857</td>\n",
       "      <td>0.846429</td>\n",
       "      <td>0.795588</td>\n",
       "      <td>0.300000</td>\n",
       "      <td>29.039286</td>\n",
       "    </tr>\n",
       "  </tbody>\n",
       "</table>\n",
       "</div>"
      ],
      "text/plain": [
       "           PTS       AST       REB       STL       FTP       BLK      MIN/G\n",
       "Pos                                                                        \n",
       "C    14.933333  2.436111  9.038889  0.783333  0.724648  1.222222  29.402778\n",
       "PF   14.912821  2.674359  6.261538  0.869231  0.765084  0.694872  30.002564\n",
       "PG   16.149153  4.952542  3.961017  1.054237  0.811040  0.306780  29.530508\n",
       "SF   14.010526  2.434211  4.507895  1.047368  0.796654  0.400000  29.457895\n",
       "SG   14.378571  2.764286  3.617857  0.846429  0.795588  0.300000  29.039286"
      ]
     },
     "metadata": {},
     "execution_count": 7
    }
   ],
   "metadata": {
    "scrolled": true
   }
  },
  {
   "cell_type": "markdown",
   "source": [
    "This table gives us the average statistic by position played in the NBA. It gives us the impression that certain positions perform differently relative to each statistical attribute. However, it is clear they all play a similar number of minutes. This is itneresting to see before we create our regression models."
   ],
   "metadata": {}
  },
  {
   "cell_type": "markdown",
   "source": [
    "# Data <a class=\"anchor\" id=\"second-bullet\"></a>\n",
    "\n",
    "We will be using data from the lineups.com that summarizes the impact of each active player in the NBA throughout the 2019-2020 season by averaging their game stats (points per game, assists, rebounds etc.) and their average MIN/G. MIN/G represents the average minutes the specific player was on the court for all games he was available to play."
   ],
   "metadata": {}
  },
  {
   "cell_type": "code",
   "execution_count": 3,
   "source": [
    "plt.hist(nba_data['AST'], density = False, bins=30)  # density=False would make counts\r\n",
    "\r\n",
    "plt.title('Frequency of Assists')\r\n",
    "plt.ylabel('Frequency')\r\n",
    "plt.xlabel('Assists');\r\n"
   ],
   "outputs": [
    {
     "output_type": "display_data",
     "data": {
      "image/png": "[encoded data removed]",
      "text/plain": [
       "<Figure size 432x288 with 1 Axes>"
      ]
     },
     "metadata": {
      "needs_background": "light"
     }
    }
   ],
   "metadata": {}
  },
  {
   "cell_type": "code",
   "execution_count": 4,
   "source": [
    "plt.hist(nba_data['PTS'], density = False, bins=30)  # density=False would make counts\r\n",
    "\r\n",
    "plt.title('Frequency of Points')\r\n",
    "plt.ylabel('Frequency')\r\n",
    "plt.xlabel('Points');"
   ],
   "outputs": [
    {
     "output_type": "display_data",
     "data": {
      "image/png": "[encoded data removed]",
      "text/plain": [
       "<Figure size 432x288 with 1 Axes>"
      ]
     },
     "metadata": {
      "needs_background": "light"
     }
    }
   ],
   "metadata": {}
  },
  {
   "cell_type": "code",
   "execution_count": 5,
   "source": [
    "plt.hist(nba_data['REB'], density = False, bins=30)  # density=False would make counts\r\n",
    "\r\n",
    "plt.title('Frequency of Rebounds')\r\n",
    "plt.ylabel('Frequency')\r\n",
    "plt.xlabel('Rebounds');"
   ],
   "outputs": [
    {
     "output_type": "display_data",
     "data": {
      "image/png": "[encoded data removed]",
      "text/plain": [
       "<Figure size 432x288 with 1 Axes>"
      ]
     },
     "metadata": {
      "needs_background": "light"
     }
    }
   ],
   "metadata": {}
  },
  {
   "cell_type": "code",
   "execution_count": 6,
   "source": [
    "plt.hist(nba_data['MIN/G'], density = False, bins=30)  # density=False would make counts\r\n",
    "\r\n",
    "plt.title('Frequency of Minutes per Game')\r\n",
    "plt.ylabel('Frequency')\r\n",
    "plt.xlabel('Minutes Per Game');"
   ],
   "outputs": [
    {
     "output_type": "display_data",
     "data": {
      "image/png": "[encoded data removed]",
      "text/plain": [
       "<Figure size 432x288 with 1 Axes>"
      ]
     },
     "metadata": {
      "needs_background": "light"
     }
    }
   ],
   "metadata": {
    "scrolled": true
   }
  },
  {
   "cell_type": "markdown",
   "source": [
    "The graphs above demonstrate the distribution of the variables points, rebounds, and minutes played per game. We created this graph in order to see if there was variation in the independent variables and variation in the dependent variables. From this graph, we can tell there is. If this wasn't the case, an OLS condition would be violated."
   ],
   "metadata": {}
  },
  {
   "cell_type": "markdown",
   "source": [
    "# Methodology/Empircal Model <a class=\"anchor\" id=\"third-bullet\"></a>\r\n",
    "\r\n",
    "$Model 1 = minutespergame = \\beta_0 + \\beta_1 log(assists) + \\beta_2 log(rebounds) + \\beta_3 log(points) + u$\r\n",
    "\r\n",
    "$Model 2 = minutespergame = \\beta_0 + \\beta_1 log(assists) + \\beta_2 log(rebounds) + \\beta_3 log(points) + \\beta_4 PPC + u$\r\n",
    "\r\n",
    "$Model 3 = minutespergame = \\beta_0 + \\beta_1 log(assists) + \\beta_2 log(rebounds) + \\beta_3 log(points) + \\beta_4 PPC + \\beta_5 BLKB + \\beta_6 STLB + u$"
   ],
   "metadata": {}
  },
  {
   "cell_type": "markdown",
   "source": [
    "We are going to explore what variables in NBA games affect players' playing time per game by using Multiple Linear Regression. We put minutes per game as a dependent variable and chose the number of assists, rebounds, and scores as independent variables that could affect the dependent variable. We used the log form for independent variables because we would like to see how the percentage change of each independent variable affects minutes per game.\n",
    "\n",
    "Based on the correlation table of each independent variable and dependent variable we prepared above, the number of point per game is expected to have the greatest impact on the dependent variable, minituespergame. And when analyzing each variable for each position, most of the variables had little deviation by positions, while rebound had a large deviation. This seems to be because the rebound is to catch the ball that bounced after the shooting failure, so the closer the position to the goal, the more chances there are to rebound."
   ],
   "metadata": {}
  },
  {
   "cell_type": "markdown",
   "source": [
    "# Results <a class=\"anchor\" id=\"fourth-bullet\"></a>\n",
    "\n"
   ],
   "metadata": {}
  },
  {
   "cell_type": "code",
   "execution_count": 10,
   "source": [
    "nba_data['min'] = nba_data['MIN/G']\r\n",
    "nba_data['3PP'] = nba_data['3PM']/nba_data['3PA']\r\n",
    "cuts = [0.1, 0.2, 0.3, 0.4, 0.5, 0.6]\r\n",
    "nba_data['PPC'] = pd.cut(nba_data['3PP'], bins = cuts)\r\n",
    "nba_data['BLKB'] = nba_data['BLK'] > np.mean(nba_data['BLK'])\r\n",
    "nba_data['STLB'] = nba_data['STL'] > np.mean(nba_data['STL'])\r\n",
    "m1 = smf.ols('min ~ np.log(PTS) + np.log(AST) + np.log(REB) + np.log(TOV) + np.log(FTP)', data = nba_data).fit()\r\n",
    "m2 = smf.ols('min ~ np.log(PTS) + np.log(AST) + np.log(REB) + np.log(TOV) + np.log(FTP) + PPC', data = nba_data).fit() \r\n",
    "m3 = smf.ols('min ~ np.log(PTS) + np.log(AST) + np.log(REB) + np.log(TOV) + np.log(FTP) + PPC + BLKB + STLB' , data = nba_data).fit() \r\n",
    "st = Stargazer([m1, m2, m3])\r\n",
    "from IPython.core.display import HTML\r\n",
    "HTML(st.render_html())"
   ],
   "outputs": [
    {
     "output_type": "execute_result",
     "data": {
      "text/html": [
       "<table style=\"text-align:center\"><tr><td colspan=\"4\" style=\"border-bottom: 1px solid black\"></td></tr><tr><td style=\"text-align:left\"></td><td colspan=\"3\"><em>Dependent variable:min</em></td></tr><tr><td style=\"text-align:left\"></td><tr><td style=\"text-align:left\"></td><td>(1)</td><td>(2)</td><td>(3)</td></tr><tr><td colspan=\"4\" style=\"border-bottom: 1px solid black\"></td></tr><tr><td style=\"text-align:left\">BLKB[T.True]</td><td></td><td></td><td>-0.294<sup></sup></td></tr><tr><td style=\"text-align:left\"></td><td></td><td></td><td>(0.436)</td></tr><tr><td style=\"text-align:left\">Intercept</td><td>11.287<sup>***</sup></td><td>8.693<sup>***</sup></td><td>8.592<sup>***</sup></td></tr><tr><td style=\"text-align:left\"></td><td>(1.999)</td><td>(2.308)</td><td>(2.311)</td></tr><tr><td style=\"text-align:left\">PPC[T.Interval(0.2, 0.3, closed='right')]</td><td></td><td>1.865<sup>*</sup></td><td>1.769<sup>*</sup></td></tr><tr><td style=\"text-align:left\"></td><td></td><td>(1.054)</td><td>(1.045)</td></tr><tr><td style=\"text-align:left\">PPC[T.Interval(0.3, 0.4, closed='right')]</td><td></td><td>2.542<sup>**</sup></td><td>2.410<sup>**</sup></td></tr><tr><td style=\"text-align:left\"></td><td></td><td>(1.018)</td><td>(1.011)</td></tr><tr><td style=\"text-align:left\">PPC[T.Interval(0.4, 0.5, closed='right')]</td><td></td><td>1.517<sup></sup></td><td>1.483<sup></sup></td></tr><tr><td style=\"text-align:left\"></td><td></td><td>(1.078)</td><td>(1.068)</td></tr><tr><td style=\"text-align:left\">PPC[T.Interval(0.5, 0.6, closed='right')]</td><td></td><td>1.359<sup></sup></td><td>1.526<sup></sup></td></tr><tr><td style=\"text-align:left\"></td><td></td><td>(1.952)</td><td>(1.935)</td></tr><tr><td style=\"text-align:left\">STLB[T.True]</td><td></td><td></td><td>0.812<sup>**</sup></td></tr><tr><td style=\"text-align:left\"></td><td></td><td></td><td>(0.375)</td></tr><tr><td style=\"text-align:left\">np.log(AST)</td><td>1.534<sup>***</sup></td><td>1.479<sup>***</sup></td><td>1.271<sup>***</sup></td></tr><tr><td style=\"text-align:left\"></td><td>(0.465)</td><td>(0.483)</td><td>(0.487)</td></tr><tr><td style=\"text-align:left\">np.log(FTP)</td><td>1.644<sup></sup></td><td>0.985<sup></sup></td><td>1.146<sup></sup></td></tr><tr><td style=\"text-align:left\"></td><td>(1.673)</td><td>(1.791)</td><td>(1.785)</td></tr><tr><td style=\"text-align:left\">np.log(PTS)</td><td>5.340<sup>***</sup></td><td>5.493<sup>***</sup></td><td>5.561<sup>***</sup></td></tr><tr><td style=\"text-align:left\"></td><td>(0.758)</td><td>(0.797)</td><td>(0.793)</td></tr><tr><td style=\"text-align:left\">np.log(REB)</td><td>2.097<sup>***</sup></td><td>2.177<sup>***</sup></td><td>2.214<sup>***</sup></td></tr><tr><td style=\"text-align:left\"></td><td>(0.465)</td><td>(0.490)</td><td>(0.530)</td></tr><tr><td style=\"text-align:left\">np.log(TOV)</td><td>-0.650<sup></sup></td><td>-1.007<sup></sup></td><td>-1.093<sup></sup></td></tr><tr><td style=\"text-align:left\"></td><td>(0.762)</td><td>(0.795)</td><td>(0.790)</td></tr><td colspan=\"4\" style=\"border-bottom: 1px solid black\"></td></tr><tr><td style=\"text-align: left\">Observations</td><td>200</td><td>186</td><td>186</td></tr><tr><td style=\"text-align: left\">R<sup>2</sup></td><td>0.566</td><td>0.589</td><td>0.601</td></tr><tr><td style=\"text-align: left\">Adjusted R<sup>2</sup></td><td>0.555</td><td>0.568</td><td>0.576</td></tr><tr><td style=\"text-align: left\">Residual Std. Error</td><td>2.398 (df=194)</td><td>2.371 (df=176)</td><td>2.349 (df=174)</td></tr><tr><td style=\"text-align: left\">F Statistic</td><td>50.646<sup>***</sup> (df=5; 194)</td><td>28.033<sup>***</sup> (df=9; 176)</td><td>23.849<sup>***</sup> (df=11; 174)</td></tr><tr><td colspan=\"4\" style=\"border-bottom: 1px solid black\"></td></tr><tr><td style=\"text-align: left\">Note:</td>\n",
       " <td colspan=\"3\" style=\"text-align: right\">\n",
       "  <sup>*</sup>p&lt;0.1;\n",
       "  <sup>**</sup>p&lt;0.05;\n",
       "  <sup>***</sup>p&lt;0.01\n",
       " </td></tr></table>"
      ],
      "text/plain": [
       "<IPython.core.display.HTML object>"
      ]
     },
     "metadata": {},
     "execution_count": 10
    }
   ],
   "metadata": {}
  },
  {
   "cell_type": "markdown",
   "source": [
    "Based on our results, in model 1, assists, points, and rebounds are all statistically significant at the 1% level. Free throw percentage and turnovers are not statistically significant in model 1. In model 2, assists, points, and rebounds are significant, but free throw percentage and turnovers are not. Additionally, in model 2, the three point success percentage (PPC) being between 20-30% is statistically significant at the 10% level; PPC between 30-40% is statistically significant at the 5% level; and 40-50% and 50-60% groups are not statistically significant, which is llikely because not enough players can obtain this high of a success rate. In mdoel 3, everything that was statisticaly significant in model 2 remains that way. However, we add on blocks, which is not statistically significant, and steals which is at the 5% level.  \n",
    "\n",
    "As we expected, points has the largest impact on minutes played per game in all 3 models. In model 1, a 1% increase in points scored per game leads to an increase in minutes played per game of .0534 minutes. Model 2 and model 3 have similar coefficients. For the models, the statistically significant variavble with the smallest impact on minutes played per game is assists, which for a 1% increase, only increases minutes played per game by .01479 in model 2, with similar impacts for models 1 and 3. In model 3, steals is also significant, and we created a dummy variable that is equal to 1 if the player records more steals that acerage and 0 otherwise. When a player records more steals than average he will increase his minutes played per gmae by an average of .812 minutes. In our creation of PPC, we made a categorial variable into groups based on whether the player's three point success percentage was between 10-20%, 20-30%, 30-40%, 40-50%, or 50-60%. For the 30-40% category, for example, they play, on average, 2.542 more minutes per game than the 10-20% category. "
   ],
   "metadata": {}
  },
  {
   "cell_type": "markdown",
   "source": [
    "### Testing for Heteroskedasticity"
   ],
   "metadata": {}
  },
  {
   "cell_type": "code",
   "execution_count": 9,
   "source": [
    "from statsmodels.compat import lzip\r\n",
    "test1 = sms.het_breuschpagan(m1.resid, m1.model.exog)\r\n",
    "name = ['Lagrange multiplier statisfgf556tic', 'p-value',\r\n",
    "        'f-value', 'f p-value']\r\n",
    "test2 = sms.het_breuschpagan(m2.resid, m2.model.exog)\r\n",
    "name = ['Lagrange multiplier statisfgf556tic', 'p-value',\r\n",
    "        'f-value', 'f p-value']\r\n",
    "test3 = sms.het_breuschpagan(m3.resid, m3.model.exog)\r\n",
    "name = ['Lagrange multiplier statisfgf556tic', 'p-value',\r\n",
    "        'f-value', 'f p-value']\r\n",
    "pd.DataFrame(lzip(name,test1, test2, test3))"
   ],
   "outputs": [
    {
     "output_type": "execute_result",
     "data": {
      "text/html": [
       "<div>\n",
       "<style scoped>\n",
       "    .dataframe tbody tr th:only-of-type {\n",
       "        vertical-align: middle;\n",
       "    }\n",
       "\n",
       "    .dataframe tbody tr th {\n",
       "        vertical-align: top;\n",
       "    }\n",
       "\n",
       "    .dataframe thead th {\n",
       "        text-align: right;\n",
       "    }\n",
       "</style>\n",
       "<table border=\"1\" class=\"dataframe\">\n",
       "  <thead>\n",
       "    <tr style=\"text-align: right;\">\n",
       "      <th></th>\n",
       "      <th>0</th>\n",
       "      <th>1</th>\n",
       "      <th>2</th>\n",
       "      <th>3</th>\n",
       "    </tr>\n",
       "  </thead>\n",
       "  <tbody>\n",
       "    <tr>\n",
       "      <th>0</th>\n",
       "      <td>Lagrange multiplier statisfgf556tic</td>\n",
       "      <td>2.218012</td>\n",
       "      <td>5.965339</td>\n",
       "      <td>8.504653</td>\n",
       "    </tr>\n",
       "    <tr>\n",
       "      <th>1</th>\n",
       "      <td>p-value</td>\n",
       "      <td>0.818230</td>\n",
       "      <td>0.743382</td>\n",
       "      <td>0.667511</td>\n",
       "    </tr>\n",
       "    <tr>\n",
       "      <th>2</th>\n",
       "      <td>f-value</td>\n",
       "      <td>0.435120</td>\n",
       "      <td>0.647961</td>\n",
       "      <td>0.757925</td>\n",
       "    </tr>\n",
       "    <tr>\n",
       "      <th>3</th>\n",
       "      <td>f p-value</td>\n",
       "      <td>0.823698</td>\n",
       "      <td>0.754801</td>\n",
       "      <td>0.681458</td>\n",
       "    </tr>\n",
       "  </tbody>\n",
       "</table>\n",
       "</div>"
      ],
      "text/plain": [
       "                                     0         1         2         3\n",
       "0  Lagrange multiplier statisfgf556tic  2.218012  5.965339  8.504653\n",
       "1                              p-value  0.818230  0.743382  0.667511\n",
       "2                              f-value  0.435120  0.647961  0.757925\n",
       "3                            f p-value  0.823698  0.754801  0.681458"
      ]
     },
     "metadata": {},
     "execution_count": 9
    }
   ],
   "metadata": {}
  },
  {
   "cell_type": "markdown",
   "source": [
    "# Conclusion <a class=\"anchor\" id=\"fifth-bullet\"></a>"
   ],
   "metadata": {}
  },
  {
   "cell_type": "markdown",
   "source": [
    "Through this project, we confirmed that our initial regression model is valid that independent variables such as assists/G, rebounds/G, and points/G have a positive effect on the players' playing time per game in minutes. For a more precise regression model, we built a second regression model that added three-point shot success rates to the first regression model and a third regression model that added the number of blocks and stills as binary variables (variable = 1 if the number of blocks and stills is above average).\n",
    "\n",
    "The R-squared values are increased as variables were added. Therefore, we could interpret the model, which including the success rate of three-point shots, the number of blocks, and the number of steals, better explains the dependent variable(players' playing time per game).\n",
    "\n",
    "Among the independent variables, the variable 'points' had the largest impact on the players' playing time, and rebound and three-point success rates had the next biggest impact.\n",
    "\n",
    "But in the case of the independent variable 'blocking', it has been shown to have a negative effect on a player's playing time, contrary to our expectations. However, the effect of the independent variable 'blocking' on the dependent variable was not statistically significant, so no conclusion could be made about it."
   ],
   "metadata": {}
  },
  {
   "cell_type": "markdown",
   "source": [
    "# Sources cited <a class=\"anchor\" id=\"sixth-bullet\"></a>\n",
    "Azar, Mike. “The Slow Decline of NBA Stat Leaders.” Chart-It, Chart-It - Http://Mikerazar.com/Chart-It, 3 Feb. 2018, mikerazar.com/chart-it/2018/02/03/nba-stat-leaders/. \n",
    "\n",
    "“Players Traditional.” NBA Stats, www.nba.com/stats/players/traditional/?sort=PTS&amp;dir=-1. \n",
    "\n",
    "Zwerling, Jared. “In Today's NBA, Even the Stars Play Less, and for Good Reason-Here's Why.” Bleacher Report, Bleacher Report, 3 Oct. 2017, bleacherreport.com/articles/1815776-in-todays-nba-even-the-stars-play-less-and-for-good-reason-heres-why."
   ],
   "metadata": {}
  }
 ],
 "metadata": {
  "kernelspec": {
   "display_name": "Python 3",
   "language": "python",
   "name": "python3"
  },
  "language_info": {
   "codemirror_mode": {
    "name": "ipython",
    "version": 3
   },
   "file_extension": ".py",
   "mimetype": "text/x-python",
   "name": "python",
   "nbconvert_exporter": "python",
   "pygments_lexer": "ipython3",
   "version": "3.8.5"
  }
 },
 "nbformat": 4,
 "nbformat_minor": 4
}